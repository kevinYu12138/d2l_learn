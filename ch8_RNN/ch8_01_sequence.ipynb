{
 "cells": [
  {
   "cell_type": "markdown",
   "source": [
    "使用正弦函数和一些可加性噪声来生成序列数据， 时间步为1,2,...1000。"
   ],
   "metadata": {
    "collapsed": false,
    "pycharm": {
     "name": "#%% md\n"
    }
   }
  },
  {
   "cell_type": "code",
   "execution_count": null,
   "outputs": [],
   "source": [
    "%matplotlib inline\n",
    "import torch\n",
    "from torch import nn\n",
    "from d2l import torch as d2l\n",
    "\n",
    "T = 1000\n",
    "time = torch.arange(1, T+1, dtype=torch.float32)\n",
    "x = torch.sin(time * 0.01) + torch.normal(0, 0.2, (T,))\n",
    "d2l.plot(time, [x], 'time', 'x', xlim=[1, 1000], figsize=(6, 3))"
   ],
   "metadata": {
    "collapsed": false,
    "pycharm": {
     "name": "#%%\n"
    }
   }
  },
  {
   "cell_type": "markdown",
   "source": [
    "# 我们将数据映射为数据对$y_t = x_t$ 和$\\mathbf{x}t = [x{t-\\tau}, \\ldots, x_{t-1}]$。"
   ],
   "metadata": {
    "collapsed": false,
    "pycharm": {
     "name": "#%% md\n"
    }
   }
  },
  {
   "cell_type": "code",
   "execution_count": 15,
   "outputs": [],
   "source": [
    "tau = 4\n",
    "features = torch.zeros((T-tau, tau))  # T-tau样本数，tau特征数\n",
    "for i in range(tau):\n",
    "    features[:, i] = x[i: T-tau+i]  # 每tau个数据作为一组输入\n",
    "labels = x[tau:].reshape((-1, 1))\n",
    "\n",
    "batch_size, n_train = 16, 600\n",
    "train_iter = d2l.load_array((features[:n_train], labels[:n_train]), batch_size, is_train=True)"
   ],
   "metadata": {
    "collapsed": false,
    "pycharm": {
     "name": "#%%\n"
    }
   }
  }
 ],
 "metadata": {
  "kernelspec": {
   "display_name": "Python 3",
   "language": "python",
   "name": "python3"
  },
  "language_info": {
   "codemirror_mode": {
    "name": "ipython",
    "version": 2
   },
   "file_extension": ".py",
   "mimetype": "text/x-python",
   "name": "python",
   "nbconvert_exporter": "python",
   "pygments_lexer": "ipython2",
   "version": "2.7.6"
  }
 },
 "nbformat": 4,
 "nbformat_minor": 0
}