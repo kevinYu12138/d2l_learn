{
 "cells": [
  {
   "cell_type": "code",
   "execution_count": 17,
   "metadata": {
    "collapsed": true,
    "pycharm": {
     "name": "#%%\n"
    }
   },
   "outputs": [],
   "source": [
    "import numpy as np\n",
    "import torch\n",
    "from torch.utils import data\n",
    "\n",
    "true_w = torch.tensor([2, -3.4])\n",
    "true_b = 4.2\n",
    "\n",
    "def synthetic_data(w, b, num_example):\n",
    "    \"\"\"生成 y = Xw + b + 噪声。\"\"\"\n",
    "    X = torch.normal(0, 1, (num_example, len(w)))  # 生成均值为0，标准差为1的随机数，行数为样本数，列数为w的长度\n",
    "    y = torch.matmul(X, w) + b\n",
    "    y += torch.normal(0, 0.01, y.shape)  # 随机噪声\n",
    "    return X, y.reshape((-1, 1))  # 将y返回成列向量\n",
    "\n",
    "features, labels = synthetic_data(true_w, true_b, 1000)"
   ]
  },
  {
   "cell_type": "code",
   "execution_count": 18,
   "outputs": [
    {
     "data": {
      "text/plain": "[tensor([[ 0.1111, -0.3725],\n         [ 1.4192,  1.6246],\n         [ 0.8314,  0.6754],\n         [ 0.5407,  1.7952],\n         [ 0.1734, -1.5008],\n         [-0.8199,  0.8850],\n         [-0.7359, -1.3778],\n         [-0.1123, -1.6092],\n         [ 1.2742,  0.0461],\n         [-0.6999,  1.0001]]),\n tensor([[ 5.6844],\n         [ 1.5184],\n         [ 3.5707],\n         [-0.8394],\n         [ 9.6570],\n         [-0.4547],\n         [ 7.4195],\n         [ 9.4421],\n         [ 6.5962],\n         [-0.6068]])]"
     },
     "execution_count": 18,
     "metadata": {},
     "output_type": "execute_result"
    }
   ],
   "source": [
    "# 调用框架中现有的API来读取数据\n",
    "def load_array(data_arrays, batch_size, is_train=True):\n",
    "    \"\"\"\n",
    "    构造一个pyTorch数据迭代器\n",
    "    \"\"\"\n",
    "    dataset = data.TensorDataset(*data_arrays)\n",
    "    return data.DataLoader(dataset, batch_size, shuffle=is_train)\n",
    "\n",
    "batch_size = 10\n",
    "data_iter = load_array((features, labels), batch_size)\n",
    "\n",
    "next(iter(data_iter))"
   ],
   "metadata": {
    "collapsed": false,
    "pycharm": {
     "name": "#%%\n"
    }
   }
  },
  {
   "cell_type": "code",
   "execution_count": 19,
   "outputs": [],
   "source": [
    "from torch import nn\n",
    "\n",
    "net = nn.Sequential(nn.Linear(2, 1))  # 2输入维度 和 1输出维度"
   ],
   "metadata": {
    "collapsed": false,
    "pycharm": {
     "name": "#%%\n"
    }
   }
  },
  {
   "cell_type": "markdown",
   "source": [
    "# 初始化模型参数"
   ],
   "metadata": {
    "collapsed": false,
    "pycharm": {
     "name": "#%% md\n"
    }
   }
  },
  {
   "cell_type": "code",
   "execution_count": 20,
   "outputs": [
    {
     "data": {
      "text/plain": "tensor([0.])"
     },
     "execution_count": 20,
     "metadata": {},
     "output_type": "execute_result"
    }
   ],
   "source": [
    "net[0].weight.data.normal_(0, 0.01)\n",
    "net[0].bias.data.fill_(0)"
   ],
   "metadata": {
    "collapsed": false,
    "pycharm": {
     "name": "#%%\n"
    }
   }
  },
  {
   "cell_type": "code",
   "execution_count": 21,
   "outputs": [],
   "source": [
    "\"\"\"\n",
    "计算均方误差使用的是MSELoss类，也称平方L2范数\n",
    "\"\"\"\n",
    "loss = nn.MSELoss()"
   ],
   "metadata": {
    "collapsed": false,
    "pycharm": {
     "name": "#%%\n"
    }
   }
  },
  {
   "cell_type": "code",
   "execution_count": 22,
   "outputs": [],
   "source": [
    "\"\"\"\n",
    "实例化SGD实例\n",
    "\"\"\"\n",
    "trainer = torch.optim.SGD(net.parameters(), lr=0.03)"
   ],
   "metadata": {
    "collapsed": false,
    "pycharm": {
     "name": "#%%\n"
    }
   }
  },
  {
   "cell_type": "code",
   "execution_count": 23,
   "outputs": [
    {
     "name": "stdout",
     "output_type": "stream",
     "text": [
      "epoch1, loss0.000324\n",
      "epoch2, loss0.000105\n",
      "epoch3, loss0.000105\n"
     ]
    }
   ],
   "source": [
    "num_epochs = 3\n",
    "for epoch in range(num_epochs):\n",
    "    for X, y in data_iter:\n",
    "        l = loss(net(X), y)\n",
    "        trainer.zero_grad()\n",
    "        l.backward()  # 这里pyTorch已经计算了sum()，无需自己再计算\n",
    "        trainer.step()  # 调用step()函数，从而分别更新 权重 和 偏差\n",
    "    l = loss(net(features), labels)\n",
    "    print(f'epoch{epoch+1}, loss{l:f}')"
   ],
   "metadata": {
    "collapsed": false,
    "pycharm": {
     "name": "#%%\n"
    }
   }
  }
 ],
 "metadata": {
  "kernelspec": {
   "display_name": "Python 3",
   "language": "python",
   "name": "python3"
  },
  "language_info": {
   "codemirror_mode": {
    "name": "ipython",
    "version": 2
   },
   "file_extension": ".py",
   "mimetype": "text/x-python",
   "name": "python",
   "nbconvert_exporter": "python",
   "pygments_lexer": "ipython2",
   "version": "2.7.6"
  }
 },
 "nbformat": 4,
 "nbformat_minor": 0
}